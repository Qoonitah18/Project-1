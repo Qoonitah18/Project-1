{
  "nbformat": 4,
  "nbformat_minor": 0,
  "metadata": {
    "colab": {
      "provenance": [],
      "authorship_tag": "ABX9TyNRqBhWCCcq8/pJSJxYtP2A",
      "include_colab_link": true
    },
    "kernelspec": {
      "name": "python3",
      "display_name": "Python 3"
    },
    "language_info": {
      "name": "python"
    }
  },
  "cells": [
    {
      "cell_type": "markdown",
      "metadata": {
        "id": "view-in-github",
        "colab_type": "text"
      },
      "source": [
        "<a href=\"https://colab.research.google.com/github/Qoonitah18/Project-1/blob/main/Confidence%20Interval.ipynb\" target=\"_parent\"><img src=\"https://colab.research.google.com/assets/colab-badge.svg\" alt=\"Open In Colab\"/></a>"
      ]
    },
    {
      "cell_type": "code",
      "execution_count": 1,
      "metadata": {
        "id": "2SwmaolCcq8i"
      },
      "outputs": [],
      "source": [
        "import pandas as pd\n",
        "import numpy as np\n",
        "from scipy import stats\n",
        "\n",
        "# 1. Buat data dummy\n",
        "data = {\n",
        "    \"Nama Lokasi\": [\"Jakarta\",\"Bandung\",\"Surabaya\",\"Medan\",\"Jogja\",\"Bali\",\"Jakarta\",\"Bandung\",\"Surabaya\",\"Medan\"],\n",
        "    \"Jam Login\": [\"08:15\",\"09:30\",\"10:45\",\"11:20\",\"13:05\",\"14:15\",\"15:40\",\"17:25\",\"19:00\",\"20:10\"],\n",
        "    \"Nama\": [\"Andi Saputra\",\"Siti Rahma\",\"Budi Santoso\",\"Rina Dewi\",\"Agus Pratama\",\n",
        "             \"Putri Lestari\",\"Dwi Nugroho\",\"Maya Sari\",\"Rudi Hartono\",\"Lina Putra\"],\n",
        "    \"Email\": [\"andi.s@gmail.com\",\"siti.r@yahoo.com\",\"budi.s@gmail.com\",\"rina.d@gmail.com\",\n",
        "              \"agus.p@gmail.com\",\"putri.l@gmail.com\",\"dwi.n@gmail.com\",\"maya.s@gmail.com\",\n",
        "              \"rudi.h@gmail.com\",\"lina.p@gmail.com\"],\n",
        "    \"No Telepon\": [\"081234567890\",\"082134567891\",\"083134567892\",\"081334567893\",\"082234567894\",\n",
        "                   \"083234567895\",\"081434567896\",\"082334567897\",\"083334567898\",\"081534567899\"],\n",
        "    \"Tahun Lahir\": [1998,1995,2000,1997,1999,1996,1994,2001,1998,1995],\n",
        "    \"Merk HP\": [\"Samsung\",\"iPhone\",\"Oppo\",\"Xiaomi\",\"Vivo\",\"iPhone\",\"Samsung\",\"Oppo\",\"Vivo\",\"Xiaomi\"],\n",
        "    \"Minat Digital\": [78,85,60,92,70,88,55,65,80,73],\n",
        "    \"Tipe Lokasi\": [\"Cafe\",\"Kantor\",\"Mall\",\"Rumah\",\"Cafe\",\"Pantai\",\"Kantor\",\"Mall\",\"Cafe\",\"Rumah\"]\n",
        "}"
      ]
    },
    {
      "cell_type": "code",
      "source": [
        "df = pd.DataFrame(data)\n",
        "print(df)"
      ],
      "metadata": {
        "colab": {
          "base_uri": "https://localhost:8080/"
        },
        "id": "3Hv7YffZdAza",
        "outputId": "da0da19c-6f67-468f-b68d-8e7dba600035"
      },
      "execution_count": 2,
      "outputs": [
        {
          "output_type": "stream",
          "name": "stdout",
          "text": [
            "  Nama Lokasi Jam Login           Nama              Email    No Telepon  \\\n",
            "0     Jakarta     08:15   Andi Saputra   andi.s@gmail.com  081234567890   \n",
            "1     Bandung     09:30     Siti Rahma   siti.r@yahoo.com  082134567891   \n",
            "2    Surabaya     10:45   Budi Santoso   budi.s@gmail.com  083134567892   \n",
            "3       Medan     11:20      Rina Dewi   rina.d@gmail.com  081334567893   \n",
            "4       Jogja     13:05   Agus Pratama   agus.p@gmail.com  082234567894   \n",
            "5        Bali     14:15  Putri Lestari  putri.l@gmail.com  083234567895   \n",
            "6     Jakarta     15:40    Dwi Nugroho    dwi.n@gmail.com  081434567896   \n",
            "7     Bandung     17:25      Maya Sari   maya.s@gmail.com  082334567897   \n",
            "8    Surabaya     19:00   Rudi Hartono   rudi.h@gmail.com  083334567898   \n",
            "9       Medan     20:10     Lina Putra   lina.p@gmail.com  081534567899   \n",
            "\n",
            "   Tahun Lahir  Merk HP  Minat Digital Tipe Lokasi  \n",
            "0         1998  Samsung             78        Cafe  \n",
            "1         1995   iPhone             85      Kantor  \n",
            "2         2000     Oppo             60        Mall  \n",
            "3         1997   Xiaomi             92       Rumah  \n",
            "4         1999     Vivo             70        Cafe  \n",
            "5         1996   iPhone             88      Pantai  \n",
            "6         1994  Samsung             55      Kantor  \n",
            "7         2001     Oppo             65        Mall  \n",
            "8         1998     Vivo             80        Cafe  \n",
            "9         1995   Xiaomi             73       Rumah  \n"
          ]
        }
      ]
    },
    {
      "cell_type": "code",
      "source": [
        "# 2. Tambahkan variabel baru (Usia, Kategori Usia, Kategori Minat Digital)\n",
        "df[\"Usia\"] = 2025 - df[\"Tahun Lahir\"]\n",
        "\n",
        "df[\"Kategori Usia\"] = pd.cut(df[\"Usia\"],\n",
        "                             bins=[0,20,35,100],\n",
        "                             labels=[\"Remaja\",\"Dewasa\",\"Tua\"])\n",
        "\n",
        "df[\"Kategori Minat\"] = pd.cut(df[\"Minat Digital\"],\n",
        "                              bins=[0,60,80,100],\n",
        "                              labels=[\"Rendah\",\"Sedang\",\"Tinggi\"])"
      ],
      "metadata": {
        "id": "T7G1o_ZAc2dU"
      },
      "execution_count": 3,
      "outputs": []
    },
    {
      "cell_type": "code",
      "source": [
        "print(\"Data Dummy:\")\n",
        "print(df)"
      ],
      "metadata": {
        "colab": {
          "base_uri": "https://localhost:8080/"
        },
        "id": "tZGpCgzNdWU0",
        "outputId": "0a956326-c646-4102-da87-0f961597f0f0"
      },
      "execution_count": 4,
      "outputs": [
        {
          "output_type": "stream",
          "name": "stdout",
          "text": [
            "Data Dummy:\n",
            "  Nama Lokasi Jam Login           Nama              Email    No Telepon  \\\n",
            "0     Jakarta     08:15   Andi Saputra   andi.s@gmail.com  081234567890   \n",
            "1     Bandung     09:30     Siti Rahma   siti.r@yahoo.com  082134567891   \n",
            "2    Surabaya     10:45   Budi Santoso   budi.s@gmail.com  083134567892   \n",
            "3       Medan     11:20      Rina Dewi   rina.d@gmail.com  081334567893   \n",
            "4       Jogja     13:05   Agus Pratama   agus.p@gmail.com  082234567894   \n",
            "5        Bali     14:15  Putri Lestari  putri.l@gmail.com  083234567895   \n",
            "6     Jakarta     15:40    Dwi Nugroho    dwi.n@gmail.com  081434567896   \n",
            "7     Bandung     17:25      Maya Sari   maya.s@gmail.com  082334567897   \n",
            "8    Surabaya     19:00   Rudi Hartono   rudi.h@gmail.com  083334567898   \n",
            "9       Medan     20:10     Lina Putra   lina.p@gmail.com  081534567899   \n",
            "\n",
            "   Tahun Lahir  Merk HP  Minat Digital Tipe Lokasi  Usia Kategori Usia  \\\n",
            "0         1998  Samsung             78        Cafe    27        Dewasa   \n",
            "1         1995   iPhone             85      Kantor    30        Dewasa   \n",
            "2         2000     Oppo             60        Mall    25        Dewasa   \n",
            "3         1997   Xiaomi             92       Rumah    28        Dewasa   \n",
            "4         1999     Vivo             70        Cafe    26        Dewasa   \n",
            "5         1996   iPhone             88      Pantai    29        Dewasa   \n",
            "6         1994  Samsung             55      Kantor    31        Dewasa   \n",
            "7         2001     Oppo             65        Mall    24        Dewasa   \n",
            "8         1998     Vivo             80        Cafe    27        Dewasa   \n",
            "9         1995   Xiaomi             73       Rumah    30        Dewasa   \n",
            "\n",
            "  Kategori Minat  \n",
            "0         Sedang  \n",
            "1         Tinggi  \n",
            "2         Rendah  \n",
            "3         Tinggi  \n",
            "4         Sedang  \n",
            "5         Tinggi  \n",
            "6         Rendah  \n",
            "7         Sedang  \n",
            "8         Sedang  \n",
            "9         Sedang  \n"
          ]
        }
      ]
    },
    {
      "cell_type": "code",
      "source": [
        "# 3. Confidence Interval untuk rata-rata usia\n",
        "usia = df[\"Usia\"]\n",
        "mean = np.mean(usia)\n",
        "std = np.std(usia, ddof=1)   # sample standard deviation\n",
        "n = len(usia)\n",
        "alpha = 0.05\n",
        "t_value = stats.t.ppf(1 - alpha/2, n-1)\n",
        "se = std / np.sqrt(n)\n",
        "ci_lower = mean - t_value * se\n",
        "ci_upper = mean + t_value * se\n",
        "\n",
        "print(\"\\nRata-rata Usia:\", round(mean,2))\n",
        "print(f\"95% Confidence Interval: [{round(ci_lower,2)} , {round(ci_upper,2)}]\")"
      ],
      "metadata": {
        "colab": {
          "base_uri": "https://localhost:8080/"
        },
        "id": "JUR65v0Mc508",
        "outputId": "18a08491-2ca8-4a15-d072-85fdb4044a3e"
      },
      "execution_count": 9,
      "outputs": [
        {
          "output_type": "stream",
          "name": "stdout",
          "text": [
            "\n",
            "Rata-rata Usia: 27.7\n",
            "95% Confidence Interval: [26.05 , 29.35]\n"
          ]
        }
      ]
    },
    {
      "cell_type": "code",
      "source": [
        "import matplotlib.pyplot as plt"
      ],
      "metadata": {
        "id": "wjKZoxqwe3Us"
      },
      "execution_count": 7,
      "outputs": []
    },
    {
      "cell_type": "code",
      "source": [
        "# 4. Visualisasi histogram usia dengan CI\n",
        "plt.figure(figsize=(8,5))\n",
        "plt.hist(usia, bins=5, color='skyblue', edgecolor='black', alpha=0.7)\n",
        "plt.axvline(mean, color='red', linestyle='dashed', linewidth=2, label=f'Mean = {mean:.2f}')\n",
        "plt.axvline(ci_lower, color='green', linestyle='dotted', linewidth=2, label=f'CI Lower = {ci_lower:.2f}')\n",
        "plt.axvline(ci_upper, color='green', linestyle='dotted', linewidth=2, label=f'CI Upper = {ci_upper:.2f}')\n",
        "\n",
        "plt.title(\"Distribusi Usia Pengguna + 95% Confidence Interval\")\n",
        "plt.xlabel(\"Usia\")\n",
        "plt.ylabel(\"Frekuensi\")\n",
        "plt.legend()\n",
        "plt.show()"
      ],
      "metadata": {
        "id": "jzzxPE9be_vU",
        "outputId": "481ff77f-ac78-448f-b11d-bcbbadab0691",
        "colab": {
          "base_uri": "https://localhost:8080/",
          "height": 487
        }
      },
      "execution_count": 10,
      "outputs": [
        {
          "output_type": "display_data",
          "data": {
            "text/plain": [
              "<Figure size 800x500 with 1 Axes>"
            ],
            "image/png": "[encoded data removed]"
          },
          "metadata": {}
        }
      ]
    },
    {
      "cell_type": "code",
      "source": [
        "# 3. Rata-rata skor minat digital\n",
        "skor = df[\"Minat Digital\"]\n",
        "mean = np.mean(skor)\n",
        "\n",
        "print(\"\\nRata-rata Skor:\", round(mean,2))"
      ],
      "metadata": {
        "colab": {
          "base_uri": "https://localhost:8080/"
        },
        "id": "Qzqt333Au2TX",
        "outputId": "2715c407-127b-451b-d44d-178c7a8040de"
      },
      "execution_count": 6,
      "outputs": [
        {
          "output_type": "stream",
          "name": "stdout",
          "text": [
            "\n",
            "Rata-rata Skor: 74.6\n"
          ]
        }
      ]
    }
  ]
}