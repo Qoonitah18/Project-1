{
  "nbformat": 4,
  "nbformat_minor": 0,
  "metadata": {
    "colab": {
      "provenance": [],
      "include_colab_link": true
    },
    "kernelspec": {
      "name": "python3",
      "display_name": "Python 3"
    },
    "language_info": {
      "name": "python"
    }
  },
  "cells": [
    {
      "cell_type": "markdown",
      "metadata": {
        "id": "view-in-github",
        "colab_type": "text"
      },
      "source": [
        "<a href=\"https://colab.research.google.com/github/Qoonitah18/Project-1/blob/main/Task_3_Data_Analyst_Eklipse.ipynb\" target=\"_parent\"><img src=\"https://colab.research.google.com/assets/colab-badge.svg\" alt=\"Open In Colab\"/></a>"
      ]
    },
    {
      "cell_type": "code",
      "execution_count": null,
      "metadata": {
        "id": "FW--TXtlSSuV"
      },
      "outputs": [],
      "source": [
        "import pandas as pd\n",
        "import numpy as np\n",
        "\n",
        "# 1. MEMUAT DATA & KLASIFIKASI PENGGUNA\n",
        "# SQL: SELECT * FROM table\n",
        "\n",
        "df_gs = pd.read_csv(\"gamesession.csv\")\n",
        "df_prem = pd.read_csv(\"premium.csv\")\n",
        "df_dl = pd.read_csv(\"downloaded_clips.csv\")\n",
        "df_clips = pd.read_csv(\"clips.csv\")\n",
        "df_share = pd.read_csv(\"shared_clips.csv\")"
      ]
    },
    {
      "cell_type": "code",
      "source": [
        "# Perbaikan ID & Konversi Dasar\n",
        "df_dl.rename(columns={'user_Id': 'user_id'}, inplace=True)\n",
        "df_gs['duration'] = pd.to_numeric(df_gs['duration'], errors='coerce') / 60000 # Ubah milisecond ke menit"
      ],
      "metadata": {
        "id": "LGrNnMYYU78G"
      },
      "execution_count": null,
      "outputs": []
    },
    {
      "cell_type": "code",
      "source": [
        "# Pembagian Jenis Pengguna\n",
        "premium_users = df_prem['user_id'].unique()\n",
        "all_active_users = df_gs['user_id'].unique()\n",
        "\n",
        "df_users = pd.DataFrame({'user_id': all_active_users})\n",
        "df_users['user_type'] = np.where(df_users['user_id'].isin(premium_users), 'Premium', 'Reguler')"
      ],
      "metadata": {
        "id": "iGvi7KUoVeZL"
      },
      "execution_count": null,
      "outputs": []
    },
    {
      "cell_type": "code",
      "source": [
        "# Hitung Total Pengguna\n",
        "user_summary = df_users.groupby('user_type').size().reset_index(name='total_users')"
      ],
      "metadata": {
        "id": "bCAQyOx4V0Q5"
      },
      "execution_count": null,
      "outputs": []
    },
    {
      "cell_type": "code",
      "source": [
        "print(\"## Hasil Langkah 1: Ringkasan Basis Pengguna\")\n",
        "print(user_summary.to_markdown(index=False))"
      ],
      "metadata": {
        "colab": {
          "base_uri": "https://localhost:8080/"
        },
        "id": "PjkeM1KVYFmK",
        "outputId": "2f1e1c36-b7db-4672-e4dd-17d299fdb64d"
      },
      "execution_count": null,
      "outputs": [
        {
          "output_type": "stream",
          "name": "stdout",
          "text": [
            "## Hasil Langkah 1: Ringkasan Basis Pengguna\n",
            "| user_type   |   total_users |\n",
            "|:------------|--------------:|\n",
            "| Premium     |           333 |\n",
            "| Reguler     |          3989 |\n"
          ]
        }
      ]
    },
    {
      "cell_type": "code",
      "source": [
        "# 2. METRIK PERILAKU PENGGUNA\n",
        "# SQL: JOIN, GROUP BY, AVG\n",
        "\n",
        "# A. Rata-rata Durasi Sesi Game (Menit)\n",
        "# JOIN gamesession DENGAN user_groups, lalu AVG(duration) GROUP BY user_type\n",
        "df_gs_merged = df_gs.merge(df_users, on='user_id', how='inner')\n",
        "avg_duration = df_gs_merged.groupby('user_type')['duration'].mean().reset_index(name='avg_session_duration_min').round(2)"
      ],
      "metadata": {
        "id": "evnjfYCgWgJR"
      },
      "execution_count": null,
      "outputs": []
    },
    {
      "cell_type": "code",
      "source": [
        "# B. Rata-rata Unduhan Klip per Pengguna (Paling Penting)\n",
        "# Hitung COUNT(downloads) per user, JOIN DENGAN user_groups, lalu AVG(COUNT) GROUP BY user_type\n",
        "downloads_per_user = df_dl.groupby('user_id').size().reset_index(name='download_count')\n",
        "df_dl_merged = df_users.merge(downloads_per_user, on='user_id', how='left').fillna(0)\n",
        "avg_downloads = df_dl_merged.groupby('user_type')['download_count'].mean().reset_index(name='avg_downloads_per_user').round(2)"
      ],
      "metadata": {
        "id": "k4-jkt4eZMV0"
      },
      "execution_count": null,
      "outputs": []
    },
    {
      "cell_type": "code",
      "source": [
        "print(\"## Hasil Langkah 2: Durasi dan Unduhan Klip\")\n",
        "print(\"Rata-rata Durasi Sesi (Menit):\")\n",
        "print(avg_duration.to_markdown(index=False))\n",
        "print(\"\\nRata-rata Unduhan Klip per Pengguna:\")\n",
        "print(avg_downloads.to_markdown(index=False))"
      ],
      "metadata": {
        "colab": {
          "base_uri": "https://localhost:8080/"
        },
        "id": "YWzkDhcOZOGl",
        "outputId": "7539886a-caa9-4418-d5d1-a985cfb2a7d0"
      },
      "execution_count": null,
      "outputs": [
        {
          "output_type": "stream",
          "name": "stdout",
          "text": [
            "## Hasil Langkah 2: Durasi dan Unduhan Klip\n",
            "Rata-rata Durasi Sesi (Menit):\n",
            "| user_type   |   avg_session_duration_min |\n",
            "|:------------|---------------------------:|\n",
            "| Premium     |                     342.16 |\n",
            "| Reguler     |                     344.5  |\n",
            "\n",
            "Rata-rata Unduhan Klip per Pengguna:\n",
            "| user_type   |   avg_downloads_per_user |\n",
            "|:------------|-------------------------:|\n",
            "| Premium     |                     3.41 |\n",
            "| Reguler     |                     2.96 |\n"
          ]
        }
      ]
    },
    {
      "cell_type": "code",
      "source": [
        "# 3. METRIK CHURN RATE\n",
        "df_prem['canceled_at'] = pd.to_datetime(df_prem['canceled_at'], errors='coerce')\n",
        "churn_rate = (df_prem['canceled_at'].count() / len(df_prem)) * 100"
      ],
      "metadata": {
        "id": "vXW0sJTXXHhv"
      },
      "execution_count": null,
      "outputs": []
    },
    {
      "cell_type": "code",
      "source": [
        "# 4. HASIL AKHIR\n",
        "user_summary = df_users.groupby('user_type').size().reset_index(name='total_users')\n",
        "df_final = user_summary.merge(avg_duration, on='user_type', how='left')\n",
        "df_final = df_final.merge(avg_downloads, on='user_type', how='left')\n",
        "\n",
        "print(\"### TABEL RINGKASAN ###\")\n",
        "print(df_final.to_markdown(index=False))\n",
        "print(f\"\\nTingkat Pembatalan (Churn Rate) Premium: {churn_rate:.2f}%\")"
      ],
      "metadata": {
        "colab": {
          "base_uri": "https://localhost:8080/"
        },
        "id": "ajHkMVbwXM7V",
        "outputId": "8ace88dc-840a-4ad7-c5a1-f212e0e5a426"
      },
      "execution_count": null,
      "outputs": [
        {
          "output_type": "stream",
          "name": "stdout",
          "text": [
            "### TABEL RINGKASAN ###\n",
            "| user_type   |   total_users |   avg_session_duration_min |   avg_downloads_per_user |\n",
            "|:------------|--------------:|---------------------------:|-------------------------:|\n",
            "| Premium     |           333 |                     342.16 |                     3.41 |\n",
            "| Reguler     |          3989 |                     344.5  |                     2.96 |\n",
            "\n",
            "Tingkat Pembatalan (Churn Rate) Premium: 32.55%\n"
          ]
        }
      ]
    }
  ]
}