{
  "nbformat": 4,
  "nbformat_minor": 0,
  "metadata": {
    "colab": {
      "provenance": [],
      "include_colab_link": true
    },
    "kernelspec": {
      "name": "python3",
      "display_name": "Python 3"
    },
    "language_info": {
      "name": "python"
    }
  },
  "cells": [
    {
      "cell_type": "markdown",
      "metadata": {
        "id": "view-in-github",
        "colab_type": "text"
      },
      "source": [
        "<a href=\"https://colab.research.google.com/github/Qoonitah18/Project-1/blob/main/task_2_Concise%20Video%20Game%20Data%20Enhancement%20with%20Google%20AI%20Studio%20API.ipynb\" target=\"_parent\"><img src=\"https://colab.research.google.com/assets/colab-badge.svg\" alt=\"Open In Colab\"/></a>"
      ]
    },
    {
      "cell_type": "markdown",
      "source": [
        "Bagian 1 - Import, pengaturan file & konstanta"
      ],
      "metadata": {
        "id": "Teh4RjqXROzr"
      }
    },
    {
      "cell_type": "code",
      "execution_count": null,
      "metadata": {
        "id": "x0n0nyZoRHEc"
      },
      "outputs": [],
      "source": [
        "import os\n",
        "import time # jeda antar request\n",
        "import re\n",
        "import argparse\n",
        "import random\n",
        "\n",
        "import pandas as pd\n",
        "# requests diperlukan ketika nanti mau pakai API real\n",
        "import requests # untuk kirim HTTP (dipakai nanti jika pakai API sungguhan)\n",
        "\n",
        "# Nama file input/output\n",
        "INPUT_CSV = \"Game Thumbnail.csv\"\n",
        "OUTPUT_CSV = \"Game_Thumbnail_enhanced_api_sim.csv\"\n"
      ]
    },
    {
      "cell_type": "markdown",
      "source": [
        "Bagian 2 - Template prompt & fungsi pemanggil API (mock + skeleton real)\n",
        "\n",
        "Kita buat dua fungsi: call_api_mock(prompt, kind) untuk latihan, dan call_api_real(prompt) sebagai skeleton yang menggambarkan bagaimana panggilan ke Google AI Studio akan terlihat."
      ],
      "metadata": {
        "id": "U7k6II3YVqoR"
      }
    },
    {
      "cell_type": "code",
      "source": [
        "# Prompt templates\n",
        "# prompt ini yang bakalan dikirim ke AI. Pastiin output terstruktur\n",
        "PROMPT_GENRE = 'Classify the genre of the game titled \"{title}\". Return exactly ONE word (e.g., Shooter, RPG, Puzzle).'\n",
        "PROMPT_DESC  = 'Write a short description (max 30 words) for the game titled \"{title}\". Use present tense, no bullets.'\n",
        "PROMPT_MODE  = 'For the game titled \"{title}\", return exactly one word: Singleplayer, Multiplayer, or Both.'\n",
        "\n",
        "# fungsi latihan yang merespon seakan-akan AI, berdasarkan kata kunci di prompt\n",
        "# berguna untuk testing alur\n",
        "def call_api_mock(prompt: str, kind: str) -> str:\n",
        "\n",
        "    # beri jeda kecil supaya mirip pemanggilan nyata\n",
        "    time.sleep(0.15)\n",
        "    t = prompt.lower()\n",
        "\n",
        "    # return berdasarkan 'kind' (genre/desc/mode)\n",
        "    if kind == \"genre\":\n",
        "        if \"valorant\" in t or \"shoot\" in t or \"hunt\" in t:\n",
        "            return \"Shooter\"\n",
        "        if \"civ\" in t or \"civilization\" in t or \"strategy\" in t:\n",
        "            return \"Strategy\"\n",
        "        if \"minecraft\" in t or \"sandbox\" in t:\n",
        "            return \"Sandbox\"\n",
        "        if \"hidden\" in t or \"manor\" in t:\n",
        "            return \"Puzzle\"\n",
        "        return random.choice([\"Casual\", \"Adventure\", \"RPG\"])\n",
        "    if kind == \"desc\":\n",
        "        # contoh deskripsi singkat simulasi\n",
        "        return \"An engaging game that focuses on core mechanics and player progression.\"\n",
        "    if kind == \"mode\":\n",
        "        if \"valorant\" in t or \"arena\" in t:\n",
        "            return \"Multiplayer\"\n",
        "        if \"minecraft\" in t:\n",
        "            return \"Both\"\n",
        "        return \"Singleplayer\"\n",
        "\n",
        "# contoh kode yang mengirim POST request ke endpoint\n",
        "# struktur payload dan response bergantung pada dokumentasi Google AI Studio. Cth:{\"instances\":[{\"input\":...}]} atau sejenisnya\n",
        "def call_api_real(prompt: str) -> str:\n",
        "    \"\"\"Kerangka panggilan API nyata. Jangan jalankan sebelum set API_KEY & ENDPOINT.\n",
        "       Perlu disesuaikan dengan dokumentasi endpoint yang diberikan HR.\"\"\"\n",
        "    API_KEY = os.getenv(\"GOOGLE_API_KEY\")\n",
        "    ENDPOINT = os.getenv(\"GOOGLE_AI_ENDPOINT\")\n",
        "    if not API_KEY or not ENDPOINT:\n",
        "        raise EnvironmentError(\"Set GOOGLE_API_KEY and GOOGLE_AI_ENDPOINT in your environment to use real API.\")\n",
        "    headers = {\n",
        "        \"Authorization\": f\"Bearer {API_KEY}\",\n",
        "        \"Content-Type\": \"application/json\"\n",
        "    }\n",
        "    payload = {\"prompt\": prompt}  # sesuaikan jika endpoint butuh 'instances' / 'inputs'\n",
        "    r = requests.post(ENDPOINT, headers=headers, json=payload, timeout=15)\n",
        "    r.raise_for_status()\n",
        "    data = r.json()\n",
        "\n",
        "    # JSON response shape bisa berbeda → kita ambil teks dengan cara aman:\n",
        "    # contoh attempt: common keys -> \"text\", \"output\", \"generated_text\", \"response\"\n",
        "    for key in (\"text\", \"output\", \"generated_text\", \"response\", \"result\"):\n",
        "        if key in data and isinstance(data[key], str):\n",
        "            return data[key].strip()\n",
        "\n",
        "    # fallback: jika ada nested list/dict\n",
        "    # ambil first string value yang masuk akal\n",
        "    def find_str(obj):\n",
        "        if isinstance(obj, str):\n",
        "            return obj.strip()\n",
        "        if isinstance(obj, dict):\n",
        "            for v in obj.values():\n",
        "                s = find_str(v)\n",
        "                if s: return s\n",
        "        if isinstance(obj, list):\n",
        "            for v in obj:\n",
        "                s = find_str(v)\n",
        "                if s: return s\n",
        "        return None\n",
        "    found = find_str(data)\n",
        "    return found or \"\""
      ],
      "metadata": {
        "id": "qockDC4YV61u"
      },
      "execution_count": null,
      "outputs": []
    },
    {
      "cell_type": "markdown",
      "source": [
        "Bagian 3 - Fungsi sanitasi (rapikan jawaban)\n",
        "\n",
        "Pastikan jawaban yang masuk konsisten: genre satu kata, deskripsi ≤30 kata, mode dari tiga opsi."
      ],
      "metadata": {
        "id": "CKzEQvL7YPVK"
      }
    },
    {
      "cell_type": "code",
      "source": [
        "# ambil token pertama huruf/angka lalu kapitalisasi (memastikan satu kata bersih)\n",
        "def sanitize_genre(text: str) -> str:\n",
        "    tokens = re.findall(r\"[A-Za-z0-9\\-\\+]+\", str(text))\n",
        "    return tokens[0].capitalize() if tokens else \"Unknown\"\n",
        "\n",
        "# memotong menjadi <=30 kata dan tambahkan \"...\" jika kepanjangan\n",
        "def sanitize_description(text: str, max_words: int = 30) -> str:\n",
        "    words = str(text).strip().split()\n",
        "    if len(words) <= max_words:\n",
        "        return \" \".join(words)\n",
        "    return \" \".join(words[:max_words]).rstrip(\".,\") + \"...\"\n",
        "\n",
        "# normalisasi bentuk teks jadi salah satu dari tiga pilihan\n",
        "def sanitize_mode(text: str) -> str:\n",
        "    t = str(text).lower()\n",
        "    if \"single\" in t and \"multi\" not in t:\n",
        "        return \"Singleplayer\"\n",
        "    if \"multi\" in t and \"single\" not in t:\n",
        "        return \"Multiplayer\"\n",
        "    if \"both\" in t:\n",
        "        return \"Both\"\n",
        "    # fallback simple mapping\n",
        "    if \"coop\" in t or \"co-op\" in t:\n",
        "        return \"Multiplayer\"\n",
        "    return \"Unknown\""
      ],
      "metadata": {
        "id": "aGZeF_vRYbQp"
      },
      "execution_count": null,
      "outputs": []
    },
    {
      "cell_type": "markdown",
      "source": [
        "Bagian 4 - Alur utama (main): baca csv, loop, panggil API, simpan\n",
        "\n",
        "Gabungkan semua ke alur utama yang menerima arg --mock supaya mudah"
      ],
      "metadata": {
        "id": "nZlRsc0ddzP6"
      }
    },
    {
      "cell_type": "code",
      "source": [
        "# membaca csv dan memproses tiap judul\n",
        "def process_file(input_csv, output_csv, use_mock=True):\n",
        "    df = pd.read_csv(input_csv)\n",
        "    if \"game_title\" not in df.columns:\n",
        "        raise SystemExit(\"Input CSV must have a 'game_title' column.\")\n",
        "    genres, descs, modes = [], [], []\n",
        "    for i, title in enumerate(df[\"game_title\"].fillna(\"\").astype(str), start=1):\n",
        "        print(f\"[{i}/{len(df)}] Processing: {title}\")\n",
        "\n",
        "        # siapkan prompt\n",
        "        p_genre = PROMPT_GENRE.format(title=title)\n",
        "        p_desc  = PROMPT_DESC.format(title=title)\n",
        "        p_mode  = PROMPT_MODE.format(title=title)\n",
        "\n",
        "        # menentukan fungsi mana yang dipanggil: mock atau real\n",
        "        if use_mock:\n",
        "            raw_g = call_api_mock(p_genre, \"genre\")\n",
        "            raw_d = call_api_mock(p_desc, \"desc\")\n",
        "            raw_m = call_api_mock(p_mode, \"mode\")\n",
        "        else:\n",
        "            raw_g = call_api_real(p_genre)\n",
        "            raw_d = call_api_real(p_desc)\n",
        "            raw_m = call_api_real(p_mode)\n",
        "\n",
        "        # rapikan hasil\n",
        "        g = sanitize_genre(raw_g)\n",
        "        d = sanitize_description(raw_d)\n",
        "        m = sanitize_mode(raw_m)\n",
        "\n",
        "        genres.append(g); descs.append(d); modes.append(m)\n",
        "\n",
        "        # jeda kecil supaya tidak ngebomb endpoint kalau real\n",
        "        # untuk memberi jeda antar request (penting saat pakai API nyata agar tidak kena rate limit)\n",
        "        time.sleep(0.2)\n",
        "\n",
        "    # nambah kolom baru\n",
        "    df[\"genre\"] = genres\n",
        "    df[\"short_description\"] = descs\n",
        "    df[\"player_mode\"] = modes\n",
        "\n",
        "    # simpan csv output\n",
        "    df.to_csv(output_csv, index=False)\n",
        "    print(\"Saved:\", output_csv)\n",
        "\n",
        "\n",
        "if __name__ == \"__main__\":\n",
        "    parser = argparse.ArgumentParser()\n",
        "    parser.add_argument(\"--mock\", action=\"store_true\", help=\"Run in mock mode (no real API calls).\")\n",
        "    parser.add_argument(\"--input\", default=INPUT_CSV, help=\"Input CSV file.\")\n",
        "    parser.add_argument(\"--output\", default=OUTPUT_CSV, help=\"Output CSV file.\")\n",
        "    args = parser.parse_args()\n",
        "    process_file(args.input, args.output, use_mock=args.mock)\n"
      ],
      "metadata": {
        "colab": {
          "base_uri": "https://localhost:8080/",
          "height": 196
        },
        "id": "I_JcZ_gBeGDc",
        "outputId": "0cf19a4c-c26f-4232-cbf3-38e3e57b1dfb"
      },
      "execution_count": null,
      "outputs": [
        {
          "output_type": "stream",
          "name": "stderr",
          "text": [
            "usage: colab_kernel_launcher.py [-h] [--mock] [--input INPUT]\n",
            "                                [--output OUTPUT]\n",
            "colab_kernel_launcher.py: error: unrecognized arguments: -f /root/.local/share/jupyter/runtime/kernel-cb5eabe6-b330-446c-930a-60f8a77d0a2c.json\n"
          ]
        },
        {
          "output_type": "error",
          "ename": "SystemExit",
          "evalue": "2",
          "traceback": [
            "An exception has occurred, use %tb to see the full traceback.\n",
            "\u001b[0;31mSystemExit\u001b[0m\u001b[0;31m:\u001b[0m 2\n"
          ]
        },
        {
          "output_type": "stream",
          "name": "stderr",
          "text": [
            "/usr/local/lib/python3.12/dist-packages/IPython/core/interactiveshell.py:3561: UserWarning: To exit: use 'exit', 'quit', or Ctrl-D.\n",
            "  warn(\"To exit: use 'exit', 'quit', or Ctrl-D.\", stacklevel=1)\n"
          ]
        }
      ]
    }
  ]
}